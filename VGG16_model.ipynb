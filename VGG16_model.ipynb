{
  "cells": [
    {
      "cell_type": "code",
      "execution_count": null,
      "id": "b7a31286",
      "metadata": {
        "ExecuteTime": {
          "end_time": "2024-02-17T19:44:28.054541100Z",
          "start_time": "2024-02-17T19:44:27.972748Z"
        },
        "id": "b7a31286"
      },
      "outputs": [],
      "source": [
        "import os\n",
        "import numpy as np\n",
        "import cv2\n",
        "import tensorflow as tf\n",
        "from tensorflow.keras.preprocessing.image import ImageDataGenerator\n",
        "from tensorflow.keras.applications import VGG16\n",
        "from tensorflow.keras.models import Model\n",
        "from tensorflow.keras.layers import Flatten, Dense, Dropout, BatchNormalization\n",
        "from tensorflow.keras.optimizers import Adam\n",
        "from tensorflow.keras.callbacks import EarlyStopping, ReduceLROnPlateau"
      ]
    },
    {
      "cell_type": "code",
      "source": [
        "from google.colab import drive\n",
        "drive.mount('/content/drive')"
      ],
      "metadata": {
        "colab": {
          "base_uri": "https://localhost:8080/"
        },
        "id": "8Ss7U4feVixd",
        "outputId": "82e3f507-7477-46b8-b654-40e6ea8d51b0"
      },
      "id": "8Ss7U4feVixd",
      "execution_count": null,
      "outputs": [
        {
          "output_type": "stream",
          "name": "stdout",
          "text": [
            "Mounted at /content/drive\n"
          ]
        }
      ]
    },
    {
      "cell_type": "code",
      "execution_count": null,
      "id": "bf0407eb",
      "metadata": {
        "ExecuteTime": {
          "end_time": "2024-02-17T19:44:32.234852200Z",
          "start_time": "2024-02-17T19:44:32.182983700Z"
        },
        "id": "bf0407eb"
      },
      "outputs": [],
      "source": [
        "# Paths to dataset directories\n",
        "folder_train = \"/content/drive/MyDrive/project folder/data3a/training\"\n",
        "folder_test = \"/content/drive/MyDrive/project folder/data3a/test\"\n",
        "image_size = 224  # VGG16 input size\n",
        "batch_size = 32\n",
        "epochs = 45  # Adjust as needed"
      ]
    },
    {
      "cell_type": "code",
      "execution_count": null,
      "id": "e461f9df",
      "metadata": {
        "ExecuteTime": {
          "end_time": "2024-02-17T19:44:43.993518800Z",
          "start_time": "2024-02-17T19:44:39.500402200Z"
        },
        "colab": {
          "base_uri": "https://localhost:8080/"
        },
        "id": "e461f9df",
        "outputId": "5c3eb42c-1906-4b96-84b2-7563f599aff8"
      },
      "outputs": [
        {
          "output_type": "stream",
          "name": "stdout",
          "text": [
            "Found 1108 images belonging to 3 classes.\n",
            "Found 275 images belonging to 3 classes.\n",
            "Found 248 images belonging to 3 classes.\n"
          ]
        }
      ],
      "source": [
        "# ✅ Data Augmentation & Normalization\n",
        "datagen = ImageDataGenerator(\n",
        "    rotation_range=30,\n",
        "    width_shift_range=0.3,\n",
        "    height_shift_range=0.3,\n",
        "    shear_range=0.3,\n",
        "    zoom_range=0.3,\n",
        "    horizontal_flip=True,\n",
        "    fill_mode='nearest',\n",
        "    rescale=1.0 / 255.0,  # Normalize pixel values\n",
        "    validation_split=0.2  # Splitting training data into train/val\n",
        ")\n",
        "\n",
        "# ✅ Training Data Generator\n",
        "train_generator = datagen.flow_from_directory(\n",
        "    folder_train,\n",
        "    target_size=(image_size, image_size),\n",
        "    batch_size=batch_size,\n",
        "    class_mode='categorical',\n",
        "    subset='training'\n",
        ")\n",
        "\n",
        "val_generator = datagen.flow_from_directory(\n",
        "    folder_train,\n",
        "    target_size=(image_size, image_size),\n",
        "    batch_size=batch_size,\n",
        "    class_mode='categorical',\n",
        "    subset='validation'\n",
        ")\n",
        "\n",
        "# ✅ Test Data Generator (No augmentation, only normalization)\n",
        "test_datagen = ImageDataGenerator(rescale=1.0 / 255.0)\n",
        "test_generator = test_datagen.flow_from_directory(\n",
        "    folder_test,\n",
        "    target_size=(image_size, image_size),\n",
        "    batch_size=batch_size,\n",
        "    class_mode='categorical',\n",
        "    shuffle=False\n",
        ")"
      ]
    },
    {
      "cell_type": "code",
      "execution_count": null,
      "id": "67155f2f",
      "metadata": {
        "ExecuteTime": {
          "end_time": "2024-02-17T19:44:46.042317300Z",
          "start_time": "2024-02-17T19:44:46.010404Z"
        },
        "colab": {
          "base_uri": "https://localhost:8080/"
        },
        "id": "67155f2f",
        "outputId": "0a8f2f61-016f-46a4-ffdc-5583f527bd02"
      },
      "outputs": [
        {
          "output_type": "stream",
          "name": "stdout",
          "text": [
            "Downloading data from https://storage.googleapis.com/tensorflow/keras-applications/vgg16/vgg16_weights_tf_dim_ordering_tf_kernels_notop.h5\n",
            "\u001b[1m58889256/58889256\u001b[0m \u001b[32m━━━━━━━━━━━━━━━━━━━━\u001b[0m\u001b[37m\u001b[0m \u001b[1m0s\u001b[0m 0us/step\n"
          ]
        }
      ],
      "source": [
        "base_model = VGG16(weights=\"imagenet\", include_top=False, input_shape=(image_size, image_size, 3))\n"
      ]
    },
    {
      "cell_type": "code",
      "execution_count": null,
      "id": "e68a0f60",
      "metadata": {
        "ExecuteTime": {
          "end_time": "2024-02-17T19:44:51.387364Z",
          "start_time": "2024-02-17T19:44:51.327525400Z"
        },
        "id": "e68a0f60"
      },
      "outputs": [],
      "source": [
        "# ✅ Fine-tuning: Unfreeze last 4 layers\n",
        "for layer in base_model.layers[:-4]:\n",
        "    layer.trainable = False  # Freeze all layers except last 4"
      ]
    },
    {
      "cell_type": "code",
      "execution_count": null,
      "id": "224f7d6b4e0fb408",
      "metadata": {
        "ExecuteTime": {
          "end_time": "2024-02-17T19:44:56.333342400Z",
          "start_time": "2024-02-17T19:44:56.290457700Z"
        },
        "id": "224f7d6b4e0fb408"
      },
      "outputs": [],
      "source": [
        "# ✅ Custom Classification Layers\n",
        "x = Flatten()(base_model.output)\n",
        "x = Dense(512, activation='relu')(x)\n",
        "x = BatchNormalization()(x)\n",
        "x = Dropout(0.5)(x)  # Increased Dropout\n",
        "\n",
        "x = Dense(256, activation='relu')(x)\n",
        "x = BatchNormalization()(x)\n",
        "x = Dropout(0.5)(x)  # Increased Dropout\n",
        "\n",
        "output = Dense(3, activation='softmax')(x)  # 3 Classes: minor, moderate, severe"
      ]
    },
    {
      "cell_type": "code",
      "execution_count": null,
      "id": "4b317eeda6cc3388",
      "metadata": {
        "ExecuteTime": {
          "end_time": "2024-02-17T19:45:05.927014500Z",
          "start_time": "2024-02-17T19:45:05.769692200Z"
        },
        "id": "4b317eeda6cc3388"
      },
      "outputs": [],
      "source": [
        "# ✅ Create & Compile Model\n",
        "model = Model(inputs=base_model.input, outputs=output)\n",
        "model.compile(optimizer=Adam(learning_rate=1e-4),\n",
        "              loss='categorical_crossentropy',\n",
        "              metrics=['accuracy'])"
      ]
    },
    {
      "cell_type": "code",
      "execution_count": null,
      "id": "bd82fd32",
      "metadata": {
        "ExecuteTime": {
          "end_time": "2024-02-17T19:45:12.995406600Z",
          "start_time": "2024-02-17T19:45:10.993141200Z"
        },
        "id": "bd82fd32"
      },
      "outputs": [],
      "source": [
        "# ✅ Callbacks to Reduce Overfitting\n",
        "early_stopping = EarlyStopping(monitor='val_loss', patience=10, restore_best_weights=True)\n",
        "reduce_lr = ReduceLROnPlateau(monitor='val_loss', factor=0.5, patience=7, min_lr=1e-6)\n"
      ]
    },
    {
      "cell_type": "code",
      "source": [
        "# ✅ Train the Model\n",
        "model_info = model.fit(\n",
        "    train_generator,\n",
        "    epochs=epochs,\n",
        "    validation_data=val_generator,\n",
        "    callbacks=[reduce_lr]\n",
        ")"
      ],
      "metadata": {
        "colab": {
          "base_uri": "https://localhost:8080/"
        },
        "id": "EzNejoEdnGTw",
        "outputId": "5d75bea6-859b-4333-f182-20ac1394ee3f"
      },
      "id": "EzNejoEdnGTw",
      "execution_count": null,
      "outputs": [
        {
          "output_type": "stream",
          "name": "stdout",
          "text": [
            "Epoch 1/45\n",
            "\u001b[1m35/35\u001b[0m \u001b[32m━━━━━━━━━━━━━━━━━━━━\u001b[0m\u001b[37m\u001b[0m \u001b[1m33s\u001b[0m 677ms/step - accuracy: 0.5031 - loss: 1.4156 - val_accuracy: 0.4582 - val_loss: 1.5556 - learning_rate: 1.0000e-04\n",
            "Epoch 2/45\n",
            "\u001b[1m35/35\u001b[0m \u001b[32m━━━━━━━━━━━━━━━━━━━━\u001b[0m\u001b[37m\u001b[0m \u001b[1m22s\u001b[0m 550ms/step - accuracy: 0.4996 - loss: 1.3879 - val_accuracy: 0.5273 - val_loss: 1.7354 - learning_rate: 1.0000e-04\n",
            "Epoch 3/45\n",
            "\u001b[1m35/35\u001b[0m \u001b[32m━━━━━━━━━━━━━━━━━━━━\u001b[0m\u001b[37m\u001b[0m \u001b[1m23s\u001b[0m 561ms/step - accuracy: 0.5480 - loss: 1.2591 - val_accuracy: 0.3673 - val_loss: 3.0117 - learning_rate: 1.0000e-04\n",
            "Epoch 4/45\n",
            "\u001b[1m35/35\u001b[0m \u001b[32m━━━━━━━━━━━━━━━━━━━━\u001b[0m\u001b[37m\u001b[0m \u001b[1m41s\u001b[0m 544ms/step - accuracy: 0.5445 - loss: 1.2828 - val_accuracy: 0.4545 - val_loss: 2.3676 - learning_rate: 1.0000e-04\n",
            "Epoch 5/45\n",
            "\u001b[1m35/35\u001b[0m \u001b[32m━━━━━━━━━━━━━━━━━━━━\u001b[0m\u001b[37m\u001b[0m \u001b[1m43s\u001b[0m 593ms/step - accuracy: 0.5043 - loss: 1.3291 - val_accuracy: 0.3564 - val_loss: 4.3542 - learning_rate: 1.0000e-04\n",
            "Epoch 6/45\n",
            "\u001b[1m35/35\u001b[0m \u001b[32m━━━━━━━━━━━━━━━━━━━━\u001b[0m\u001b[37m\u001b[0m \u001b[1m39s\u001b[0m 556ms/step - accuracy: 0.5569 - loss: 1.2250 - val_accuracy: 0.3818 - val_loss: 3.7936 - learning_rate: 1.0000e-04\n",
            "Epoch 7/45\n",
            "\u001b[1m35/35\u001b[0m \u001b[32m━━━━━━━━━━━━━━━━━━━━\u001b[0m\u001b[37m\u001b[0m \u001b[1m23s\u001b[0m 583ms/step - accuracy: 0.5874 - loss: 1.0550 - val_accuracy: 0.4436 - val_loss: 2.1502 - learning_rate: 1.0000e-04\n",
            "Epoch 8/45\n",
            "\u001b[1m35/35\u001b[0m \u001b[32m━━━━━━━━━━━━━━━━━━━━\u001b[0m\u001b[37m\u001b[0m \u001b[1m22s\u001b[0m 547ms/step - accuracy: 0.5449 - loss: 1.3069 - val_accuracy: 0.4473 - val_loss: 2.4251 - learning_rate: 1.0000e-04\n",
            "Epoch 9/45\n",
            "\u001b[1m35/35\u001b[0m \u001b[32m━━━━━━━━━━━━━━━━━━━━\u001b[0m\u001b[37m\u001b[0m \u001b[1m23s\u001b[0m 549ms/step - accuracy: 0.5832 - loss: 1.1413 - val_accuracy: 0.5309 - val_loss: 2.1508 - learning_rate: 5.0000e-05\n",
            "Epoch 10/45\n",
            "\u001b[1m35/35\u001b[0m \u001b[32m━━━━━━━━━━━━━━━━━━━━\u001b[0m\u001b[37m\u001b[0m \u001b[1m24s\u001b[0m 590ms/step - accuracy: 0.5573 - loss: 1.1292 - val_accuracy: 0.6218 - val_loss: 1.2155 - learning_rate: 5.0000e-05\n",
            "Epoch 11/45\n",
            "\u001b[1m35/35\u001b[0m \u001b[32m━━━━━━━━━━━━━━━━━━━━\u001b[0m\u001b[37m\u001b[0m \u001b[1m23s\u001b[0m 588ms/step - accuracy: 0.6093 - loss: 1.0392 - val_accuracy: 0.5309 - val_loss: 1.5599 - learning_rate: 5.0000e-05\n",
            "Epoch 12/45\n",
            "\u001b[1m35/35\u001b[0m \u001b[32m━━━━━━━━━━━━━━━━━━━━\u001b[0m\u001b[37m\u001b[0m \u001b[1m40s\u001b[0m 570ms/step - accuracy: 0.5938 - loss: 1.0643 - val_accuracy: 0.6436 - val_loss: 1.0087 - learning_rate: 5.0000e-05\n",
            "Epoch 13/45\n",
            "\u001b[1m35/35\u001b[0m \u001b[32m━━━━━━━━━━━━━━━━━━━━\u001b[0m\u001b[37m\u001b[0m \u001b[1m42s\u001b[0m 591ms/step - accuracy: 0.5821 - loss: 1.0391 - val_accuracy: 0.6218 - val_loss: 0.8548 - learning_rate: 5.0000e-05\n",
            "Epoch 14/45\n",
            "\u001b[1m35/35\u001b[0m \u001b[32m━━━━━━━━━━━━━━━━━━━━\u001b[0m\u001b[37m\u001b[0m \u001b[1m41s\u001b[0m 584ms/step - accuracy: 0.5822 - loss: 1.0850 - val_accuracy: 0.6036 - val_loss: 1.0407 - learning_rate: 5.0000e-05\n",
            "Epoch 15/45\n",
            "\u001b[1m35/35\u001b[0m \u001b[32m━━━━━━━━━━━━━━━━━━━━\u001b[0m\u001b[37m\u001b[0m \u001b[1m24s\u001b[0m 595ms/step - accuracy: 0.6434 - loss: 0.9261 - val_accuracy: 0.5709 - val_loss: 1.3196 - learning_rate: 5.0000e-05\n",
            "Epoch 16/45\n",
            "\u001b[1m35/35\u001b[0m \u001b[32m━━━━━━━━━━━━━━━━━━━━\u001b[0m\u001b[37m\u001b[0m \u001b[1m23s\u001b[0m 557ms/step - accuracy: 0.5945 - loss: 1.0356 - val_accuracy: 0.5236 - val_loss: 1.4012 - learning_rate: 5.0000e-05\n",
            "Epoch 17/45\n",
            "\u001b[1m35/35\u001b[0m \u001b[32m━━━━━━━━━━━━━━━━━━━━\u001b[0m\u001b[37m\u001b[0m \u001b[1m23s\u001b[0m 565ms/step - accuracy: 0.6254 - loss: 0.9472 - val_accuracy: 0.6473 - val_loss: 0.8350 - learning_rate: 5.0000e-05\n",
            "Epoch 18/45\n",
            "\u001b[1m35/35\u001b[0m \u001b[32m━━━━━━━━━━━━━━━━━━━━\u001b[0m\u001b[37m\u001b[0m \u001b[1m41s\u001b[0m 560ms/step - accuracy: 0.6584 - loss: 0.9525 - val_accuracy: 0.6145 - val_loss: 0.9107 - learning_rate: 5.0000e-05\n",
            "Epoch 19/45\n",
            "\u001b[1m35/35\u001b[0m \u001b[32m━━━━━━━━━━━━━━━━━━━━\u001b[0m\u001b[37m\u001b[0m \u001b[1m24s\u001b[0m 589ms/step - accuracy: 0.6277 - loss: 0.9779 - val_accuracy: 0.6255 - val_loss: 0.8631 - learning_rate: 5.0000e-05\n",
            "Epoch 20/45\n",
            "\u001b[1m35/35\u001b[0m \u001b[32m━━━━━━━━━━━━━━━━━━━━\u001b[0m\u001b[37m\u001b[0m \u001b[1m41s\u001b[0m 590ms/step - accuracy: 0.6377 - loss: 0.9846 - val_accuracy: 0.6073 - val_loss: 0.9072 - learning_rate: 5.0000e-05\n",
            "Epoch 21/45\n",
            "\u001b[1m35/35\u001b[0m \u001b[32m━━━━━━━━━━━━━━━━━━━━\u001b[0m\u001b[37m\u001b[0m \u001b[1m41s\u001b[0m 586ms/step - accuracy: 0.6391 - loss: 0.9444 - val_accuracy: 0.6582 - val_loss: 0.8027 - learning_rate: 5.0000e-05\n",
            "Epoch 22/45\n",
            "\u001b[1m35/35\u001b[0m \u001b[32m━━━━━━━━━━━━━━━━━━━━\u001b[0m\u001b[37m\u001b[0m \u001b[1m22s\u001b[0m 557ms/step - accuracy: 0.6326 - loss: 0.9532 - val_accuracy: 0.6582 - val_loss: 0.7912 - learning_rate: 5.0000e-05\n",
            "Epoch 23/45\n",
            "\u001b[1m35/35\u001b[0m \u001b[32m━━━━━━━━━━━━━━━━━━━━\u001b[0m\u001b[37m\u001b[0m \u001b[1m23s\u001b[0m 550ms/step - accuracy: 0.6420 - loss: 0.8981 - val_accuracy: 0.5855 - val_loss: 1.1469 - learning_rate: 5.0000e-05\n",
            "Epoch 24/45\n",
            "\u001b[1m35/35\u001b[0m \u001b[32m━━━━━━━━━━━━━━━━━━━━\u001b[0m\u001b[37m\u001b[0m \u001b[1m29s\u001b[0m 737ms/step - accuracy: 0.6516 - loss: 0.8955 - val_accuracy: 0.6255 - val_loss: 1.0018 - learning_rate: 5.0000e-05\n",
            "Epoch 25/45\n",
            "\u001b[1m35/35\u001b[0m \u001b[32m━━━━━━━━━━━━━━━━━━━━\u001b[0m\u001b[37m\u001b[0m \u001b[1m36s\u001b[0m 585ms/step - accuracy: 0.6337 - loss: 0.9532 - val_accuracy: 0.4982 - val_loss: 1.4695 - learning_rate: 5.0000e-05\n",
            "Epoch 26/45\n",
            "\u001b[1m35/35\u001b[0m \u001b[32m━━━━━━━━━━━━━━━━━━━━\u001b[0m\u001b[37m\u001b[0m \u001b[1m24s\u001b[0m 589ms/step - accuracy: 0.6616 - loss: 0.8571 - val_accuracy: 0.5200 - val_loss: 1.3914 - learning_rate: 5.0000e-05\n",
            "Epoch 27/45\n",
            "\u001b[1m35/35\u001b[0m \u001b[32m━━━━━━━━━━━━━━━━━━━━\u001b[0m\u001b[37m\u001b[0m \u001b[1m23s\u001b[0m 556ms/step - accuracy: 0.6412 - loss: 0.8991 - val_accuracy: 0.6327 - val_loss: 0.9832 - learning_rate: 5.0000e-05\n",
            "Epoch 28/45\n",
            "\u001b[1m35/35\u001b[0m \u001b[32m━━━━━━━━━━━━━━━━━━━━\u001b[0m\u001b[37m\u001b[0m \u001b[1m23s\u001b[0m 567ms/step - accuracy: 0.6511 - loss: 0.8278 - val_accuracy: 0.6436 - val_loss: 1.0910 - learning_rate: 5.0000e-05\n",
            "Epoch 29/45\n",
            "\u001b[1m35/35\u001b[0m \u001b[32m━━━━━━━━━━━━━━━━━━━━\u001b[0m\u001b[37m\u001b[0m \u001b[1m24s\u001b[0m 594ms/step - accuracy: 0.6930 - loss: 0.7974 - val_accuracy: 0.5782 - val_loss: 1.1343 - learning_rate: 5.0000e-05\n",
            "Epoch 30/45\n",
            "\u001b[1m35/35\u001b[0m \u001b[32m━━━━━━━━━━━━━━━━━━━━\u001b[0m\u001b[37m\u001b[0m \u001b[1m43s\u001b[0m 657ms/step - accuracy: 0.6902 - loss: 0.7751 - val_accuracy: 0.6400 - val_loss: 0.8520 - learning_rate: 2.5000e-05\n",
            "Epoch 31/45\n",
            "\u001b[1m35/35\u001b[0m \u001b[32m━━━━━━━━━━━━━━━━━━━━\u001b[0m\u001b[37m\u001b[0m \u001b[1m42s\u001b[0m 688ms/step - accuracy: 0.6708 - loss: 0.8654 - val_accuracy: 0.6836 - val_loss: 0.8103 - learning_rate: 2.5000e-05\n",
            "Epoch 32/45\n",
            "\u001b[1m35/35\u001b[0m \u001b[32m━━━━━━━━━━━━━━━━━━━━\u001b[0m\u001b[37m\u001b[0m \u001b[1m45s\u001b[0m 805ms/step - accuracy: 0.6815 - loss: 0.7677 - val_accuracy: 0.6582 - val_loss: 0.7380 - learning_rate: 2.5000e-05\n",
            "Epoch 33/45\n",
            "\u001b[1m35/35\u001b[0m \u001b[32m━━━━━━━━━━━━━━━━━━━━\u001b[0m\u001b[37m\u001b[0m \u001b[1m27s\u001b[0m 674ms/step - accuracy: 0.7242 - loss: 0.7158 - val_accuracy: 0.6764 - val_loss: 0.8376 - learning_rate: 2.5000e-05\n",
            "Epoch 34/45\n",
            "\u001b[1m35/35\u001b[0m \u001b[32m━━━━━━━━━━━━━━━━━━━━\u001b[0m\u001b[37m\u001b[0m \u001b[1m45s\u001b[0m 813ms/step - accuracy: 0.7126 - loss: 0.7431 - val_accuracy: 0.6145 - val_loss: 0.8621 - learning_rate: 2.5000e-05\n",
            "Epoch 35/45\n",
            "\u001b[1m35/35\u001b[0m \u001b[32m━━━━━━━━━━━━━━━━━━━━\u001b[0m\u001b[37m\u001b[0m \u001b[1m32s\u001b[0m 570ms/step - accuracy: 0.7244 - loss: 0.7127 - val_accuracy: 0.6764 - val_loss: 0.8266 - learning_rate: 2.5000e-05\n",
            "Epoch 36/45\n",
            "\u001b[1m35/35\u001b[0m \u001b[32m━━━━━━━━━━━━━━━━━━━━\u001b[0m\u001b[37m\u001b[0m \u001b[1m41s\u001b[0m 579ms/step - accuracy: 0.7295 - loss: 0.7135 - val_accuracy: 0.6436 - val_loss: 0.8240 - learning_rate: 2.5000e-05\n",
            "Epoch 37/45\n",
            "\u001b[1m35/35\u001b[0m \u001b[32m━━━━━━━━━━━━━━━━━━━━\u001b[0m\u001b[37m\u001b[0m \u001b[1m41s\u001b[0m 595ms/step - accuracy: 0.7336 - loss: 0.6523 - val_accuracy: 0.6836 - val_loss: 0.8565 - learning_rate: 2.5000e-05\n",
            "Epoch 38/45\n",
            "\u001b[1m35/35\u001b[0m \u001b[32m━━━━━━━━━━━━━━━━━━━━\u001b[0m\u001b[37m\u001b[0m \u001b[1m24s\u001b[0m 589ms/step - accuracy: 0.7351 - loss: 0.7071 - val_accuracy: 0.6436 - val_loss: 0.9042 - learning_rate: 2.5000e-05\n",
            "Epoch 39/45\n",
            "\u001b[1m35/35\u001b[0m \u001b[32m━━━━━━━━━━━━━━━━━━━━\u001b[0m\u001b[37m\u001b[0m \u001b[1m40s\u001b[0m 572ms/step - accuracy: 0.7398 - loss: 0.6997 - val_accuracy: 0.6727 - val_loss: 0.8530 - learning_rate: 2.5000e-05\n",
            "Epoch 40/45\n",
            "\u001b[1m35/35\u001b[0m \u001b[32m━━━━━━━━━━━━━━━━━━━━\u001b[0m\u001b[37m\u001b[0m \u001b[1m23s\u001b[0m 547ms/step - accuracy: 0.7533 - loss: 0.6452 - val_accuracy: 0.6473 - val_loss: 0.8851 - learning_rate: 1.2500e-05\n",
            "Epoch 41/45\n",
            "\u001b[1m35/35\u001b[0m \u001b[32m━━━━━━━━━━━━━━━━━━━━\u001b[0m\u001b[37m\u001b[0m \u001b[1m23s\u001b[0m 573ms/step - accuracy: 0.7553 - loss: 0.6059 - val_accuracy: 0.6945 - val_loss: 0.8516 - learning_rate: 1.2500e-05\n",
            "Epoch 42/45\n",
            "\u001b[1m35/35\u001b[0m \u001b[32m━━━━━━━━━━━━━━━━━━━━\u001b[0m\u001b[37m\u001b[0m \u001b[1m22s\u001b[0m 553ms/step - accuracy: 0.7497 - loss: 0.6498 - val_accuracy: 0.6764 - val_loss: 0.8496 - learning_rate: 1.2500e-05\n",
            "Epoch 43/45\n",
            "\u001b[1m35/35\u001b[0m \u001b[32m━━━━━━━━━━━━━━━━━━━━\u001b[0m\u001b[37m\u001b[0m \u001b[1m42s\u001b[0m 586ms/step - accuracy: 0.7605 - loss: 0.5860 - val_accuracy: 0.7055 - val_loss: 0.7964 - learning_rate: 1.2500e-05\n",
            "Epoch 44/45\n",
            "\u001b[1m35/35\u001b[0m \u001b[32m━━━━━━━━━━━━━━━━━━━━\u001b[0m\u001b[37m\u001b[0m \u001b[1m41s\u001b[0m 583ms/step - accuracy: 0.7234 - loss: 0.6970 - val_accuracy: 0.6873 - val_loss: 0.8647 - learning_rate: 1.2500e-05\n",
            "Epoch 45/45\n",
            "\u001b[1m35/35\u001b[0m \u001b[32m━━━━━━━━━━━━━━━━━━━━\u001b[0m\u001b[37m\u001b[0m \u001b[1m22s\u001b[0m 555ms/step - accuracy: 0.7602 - loss: 0.5987 - val_accuracy: 0.6400 - val_loss: 0.9328 - learning_rate: 1.2500e-05\n"
          ]
        }
      ]
    },
    {
      "cell_type": "code",
      "source": [
        "model.save(\"model.h5\")"
      ],
      "metadata": {
        "colab": {
          "base_uri": "https://localhost:8080/"
        },
        "id": "4rtTepfDezeJ",
        "outputId": "7317645f-3a91-42e7-9c06-9fb3de11cd1a"
      },
      "id": "4rtTepfDezeJ",
      "execution_count": null,
      "outputs": [
        {
          "output_type": "stream",
          "name": "stderr",
          "text": [
            "WARNING:absl:You are saving your model as an HDF5 file via `model.save()` or `keras.saving.save_model(model)`. This file format is considered legacy. We recommend using instead the native Keras format, e.g. `model.save('my_model.keras')` or `keras.saving.save_model(model, 'my_model.keras')`. \n"
          ]
        }
      ]
    },
    {
      "cell_type": "code",
      "source": [
        "# ✅ Evaluate on Test Data\n",
        "test_loss, test_acc = model.evaluate(test_generator)\n",
        "print(f\"Test Accuracy: {test_acc:.4f}\")"
      ],
      "metadata": {
        "colab": {
          "base_uri": "https://localhost:8080/"
        },
        "id": "ArlcQ4I7nGQw",
        "outputId": "ddf59ea9-d681-4931-cea6-d076f426d243"
      },
      "id": "ArlcQ4I7nGQw",
      "execution_count": null,
      "outputs": [
        {
          "output_type": "stream",
          "name": "stderr",
          "text": [
            "/usr/local/lib/python3.11/dist-packages/keras/src/trainers/data_adapters/py_dataset_adapter.py:122: UserWarning: Your `PyDataset` class should call `super().__init__(**kwargs)` in its constructor. `**kwargs` can include `workers`, `use_multiprocessing`, `max_queue_size`. Do not pass these arguments to `fit()`, as they will be ignored.\n",
            "  self._warn_if_super_not_called()\n"
          ]
        },
        {
          "output_type": "stream",
          "name": "stdout",
          "text": [
            "\u001b[1m8/8\u001b[0m \u001b[32m━━━━━━━━━━━━━━━━━━━━\u001b[0m\u001b[37m\u001b[0m \u001b[1m96s\u001b[0m 14s/step - accuracy: 0.6504 - loss: 0.8828\n",
            "Test Accuracy: 0.6613\n"
          ]
        }
      ]
    },
    {
      "cell_type": "code",
      "source": [],
      "metadata": {
        "id": "uUxoVSkTfPuT"
      },
      "id": "uUxoVSkTfPuT",
      "execution_count": null,
      "outputs": []
    }
  ],
  "metadata": {
    "kernelspec": {
      "display_name": "Python 3",
      "name": "python3"
    },
    "language_info": {
      "codemirror_mode": {
        "name": "ipython",
        "version": 3
      },
      "file_extension": ".py",
      "mimetype": "text/x-python",
      "name": "python",
      "nbconvert_exporter": "python",
      "pygments_lexer": "ipython3",
      "version": "3.10.9"
    },
    "colab": {
      "provenance": [],
      "gpuType": "T4"
    },
    "accelerator": "GPU"
  },
  "nbformat": 4,
  "nbformat_minor": 5
}