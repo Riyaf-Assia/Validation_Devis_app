{
 "cells": [
  {
   "cell_type": "code",
   "execution_count": null,
   "metadata": {
    "id": "fHqKtKW_cSCG"
   },
   "outputs": [],
   "source": [
    "import keras.layers\n",
    "from keras.applications.vgg16 import VGG16, preprocess_input, decode_predictions\n",
    "from keras.preprocessing.image import load_img, img_to_array\n",
    "from keras import Model\n",
    "import os\n",
    "import numpy as np\n",
    "import cv2"
   ]
  },
  {
   "cell_type": "code",
   "execution_count": null,
   "metadata": {
    "id": "qfro2hH2ct3B"
   },
   "outputs": [],
   "source": [
    "#!jupyter nbconvert --to notebook --execute final.ipynb --output output.ipynb\n"
   ]
  },
  {
   "cell_type": "code",
   "execution_count": null,
   "metadata": {
    "colab": {
     "base_uri": "https://localhost:8080/"
    },
    "executionInfo": {
     "elapsed": 39701,
     "status": "ok",
     "timestamp": 1715594614460,
     "user": {
      "displayName": "Assia RIYAF",
      "userId": "06276361855029583224"
     },
     "user_tz": -60
    },
    "id": "Fxh3WQotZ6Cg",
    "outputId": "83c9232c-b5ea-4957-dc93-316a3a864038"
   },
   "outputs": [
    {
     "name": "stdout",
     "output_type": "stream",
     "text": [
      "Mounted at /content/drive\n"
     ]
    }
   ],
   "source": [
    "#from google.colab import drive\n",
    "#drive.mount('/content/drive')\n"
   ]
  },
  {
   "cell_type": "code",
   "execution_count": null,
   "metadata": {
    "id": "b3eUaRJ8aOyc"
   },
   "outputs": [],
   "source": [
    "#import os\n",
    "#os.chdir('/content/drive/My Drive/assia')\n"
   ]
  },
  {
   "cell_type": "code",
   "execution_count": null,
   "metadata": {
    "id": "C5iA9fO_cjCt"
   },
   "outputs": [],
   "source": [
    "classes = 3\n",
    "batch_size = 100\n",
    "epochs = 10\n",
    "imageSize=224 # changing\n",
    "folder_train = \"/content/drive/MyDrive/assia/data/training/\"\n",
    "folder_val = \"/content/drive/MyDrive/assia/data/validation/\""
   ]
  },
  {
   "cell_type": "code",
   "execution_count": null,
   "metadata": {
    "colab": {
     "base_uri": "https://localhost:8080/"
    },
    "executionInfo": {
     "elapsed": 3831,
     "status": "ok",
     "timestamp": 1715601790642,
     "user": {
      "displayName": "Assia RIYAF",
      "userId": "06276361855029583224"
     },
     "user_tz": -60
    },
    "id": "jFY4ZNEhdTqh",
    "outputId": "8c993fcc-c8a2-4596-8f1b-2b909c0d5b6f"
   },
   "outputs": [
    {
     "name": "stdout",
     "output_type": "stream",
     "text": [
      "severe\n",
      "moderate\n",
      "minor\n"
     ]
    }
   ],
   "source": [
    "import os\n",
    "import cv2\n",
    "X_train,y_train,X_val,y_val= [],[],[],[]\n",
    "for folderName in os.listdir(folder_train):\n",
    "    label=folderName[0:] # to only get the (minor-moderate-severe)\n",
    "    print(label)\n",
    "    for image_filename in os.listdir(folder_train + folderName): # the full path in each (moderate - ..) folders\n",
    "        img = cv2.imread(folder_train + folderName + '/' + image_filename) # the full path of the image\n",
    "        if img is not None:\n",
    "            img = cv2.resize(img, (imageSize, imageSize))\n",
    "            img_arr = np.asarray(img)\n",
    "            X_train.append(img_arr)\n",
    "            y_train.append(label)\n",
    "\n",
    "for folderName in os.listdir(folder_val):\n",
    "    label=folderName[0:]\n",
    "    for image_filename in os.listdir(folder_val + folderName):\n",
    "        img = cv2.imread(folder_val + folderName + '/' + image_filename)\n",
    "        if img is not None:\n",
    "            img = cv2.resize(img, (imageSize, imageSize))\n",
    "            img_arr = np.asarray(img)\n",
    "            X_val.append(img_arr)\n",
    "            y_val.append(label)\n",
    "\n",
    "\n",
    "\n",
    "X_train = np.asarray(X_train)\n",
    "y_train = np.asarray(y_train)\n",
    "X_val = np.asarray(X_val)\n",
    "y_val = np.asarray(y_val)"
   ]
  },
  {
   "cell_type": "markdown",
   "metadata": {
    "id": "NvYfv20u1LBM"
   },
   "source": []
  },
  {
   "cell_type": "code",
   "execution_count": null,
   "metadata": {
    "id": "dwRf8xYj0Rns"
   },
   "outputs": [],
   "source": [
    "x_final =  np.concatenate((X_train, X_val), axis=0)\n",
    "y_final = np.concatenate((y_train, y_val), axis=0)"
   ]
  },
  {
   "cell_type": "code",
   "execution_count": null,
   "metadata": {
    "colab": {
     "base_uri": "https://localhost:8080/"
    },
    "executionInfo": {
     "elapsed": 337,
     "status": "ok",
     "timestamp": 1715601917631,
     "user": {
      "displayName": "Assia RIYAF",
      "userId": "06276361855029583224"
     },
     "user_tz": -60
    },
    "id": "v5k1UwbMcjTD",
    "outputId": "27f1cff2-81e0-4162-9b41-b866d3bae2d4"
   },
   "outputs": [
    {
     "name": "stdout",
     "output_type": "stream",
     "text": [
      "(502, 224, 224, 3) (502,)\n"
     ]
    }
   ],
   "source": [
    "print(x_final.shape,y_final.shape)\n"
   ]
  },
  {
   "cell_type": "code",
   "execution_count": null,
   "metadata": {
    "id": "8cTihxlxcjV6"
   },
   "outputs": [],
   "source": [
    "from sklearn.preprocessing import LabelEncoder\n",
    "from keras.utils import to_categorical"
   ]
  },
  {
   "cell_type": "code",
   "execution_count": null,
   "metadata": {
    "id": "0rh5-4Nu3Fi7"
   },
   "outputs": [],
   "source": [
    "from sklearn.model_selection import train_test_split\n",
    "import numpy as np"
   ]
  },
  {
   "cell_type": "code",
   "execution_count": null,
   "metadata": {
    "id": "efmYOv8b3OuI"
   },
   "outputs": [],
   "source": [
    "X_train, X_test, y_train, y_test = train_test_split( x_final, y_final, test_size=0.3, random_state=42)"
   ]
  },
  {
   "cell_type": "code",
   "execution_count": null,
   "metadata": {
    "colab": {
     "base_uri": "https://localhost:8080/"
    },
    "executionInfo": {
     "elapsed": 4,
     "status": "ok",
     "timestamp": 1715602369149,
     "user": {
      "displayName": "Assia RIYAF",
      "userId": "06276361855029583224"
     },
     "user_tz": -60
    },
    "id": "FbrOJcdi3fN8",
    "outputId": "acccacc8-be7e-4b97-f45a-b1e647581953"
   },
   "outputs": [
    {
     "name": "stdout",
     "output_type": "stream",
     "text": [
      "(351, 224, 224, 3) (151, 224, 224, 3) (351,) (151,)\n"
     ]
    }
   ],
   "source": [
    "print(X_train.shape, X_test.shape, y_train.shape, y_test.shape)"
   ]
  },
  {
   "cell_type": "code",
   "execution_count": null,
   "metadata": {
    "colab": {
     "base_uri": "https://localhost:8080/"
    },
    "executionInfo": {
     "elapsed": 292,
     "status": "ok",
     "timestamp": 1715602396389,
     "user": {
      "displayName": "Assia RIYAF",
      "userId": "06276361855029583224"
     },
     "user_tz": -60
    },
    "id": "ZBmT16QxcjYp",
    "outputId": "923c5bcd-b9ed-4b91-eaa0-8e403fdb6903"
   },
   "outputs": [
    {
     "name": "stdout",
     "output_type": "stream",
     "text": [
      "['moderate' 'severe' 'severe' 'minor' 'moderate' 'severe' 'minor' 'severe'\n",
      " 'severe' 'moderate' 'minor' 'minor' 'severe' 'minor' 'minor' 'severe'\n",
      " 'severe' 'minor' 'moderate' 'severe' 'moderate' 'minor' 'moderate'\n",
      " 'moderate' 'minor' 'severe' 'minor' 'moderate' 'moderate' 'moderate'\n",
      " 'severe' 'moderate' 'minor' 'minor' 'moderate' 'moderate' 'severe'\n",
      " 'minor' 'moderate' 'minor' 'moderate' 'moderate' 'minor' 'minor'\n",
      " 'moderate' 'minor' 'moderate' 'moderate' 'moderate' 'minor' 'minor'\n",
      " 'severe' 'minor' 'moderate' 'moderate' 'minor' 'minor' 'severe'\n",
      " 'moderate' 'moderate' 'moderate' 'moderate' 'severe' 'moderate'\n",
      " 'moderate' 'moderate' 'moderate' 'moderate' 'minor' 'minor' 'moderate'\n",
      " 'severe' 'severe' 'minor' 'moderate' 'moderate' 'minor' 'severe' 'severe'\n",
      " 'severe' 'moderate' 'severe' 'severe' 'severe' 'moderate' 'moderate'\n",
      " 'minor' 'moderate' 'moderate' 'minor' 'moderate' 'minor' 'severe'\n",
      " 'severe' 'moderate' 'moderate' 'severe' 'severe' 'minor' 'moderate'\n",
      " 'minor' 'severe' 'severe' 'minor' 'severe' 'moderate' 'moderate'\n",
      " 'moderate' 'moderate' 'severe' 'moderate' 'moderate' 'moderate'\n",
      " 'moderate' 'moderate' 'minor' 'severe' 'moderate' 'moderate' 'moderate'\n",
      " 'minor' 'minor' 'minor' 'minor' 'severe' 'moderate' 'severe' 'moderate'\n",
      " 'severe' 'moderate' 'moderate' 'minor' 'minor' 'minor' 'moderate' 'minor'\n",
      " 'severe' 'severe' 'moderate' 'minor' 'moderate' 'moderate' 'moderate'\n",
      " 'severe' 'moderate' 'minor' 'minor' 'severe' 'severe' 'minor' 'moderate'\n",
      " 'minor' 'severe' 'moderate' 'moderate' 'minor' 'severe' 'minor'\n",
      " 'moderate' 'moderate' 'moderate' 'minor' 'moderate' 'severe' 'moderate'\n",
      " 'severe' 'minor' 'moderate' 'minor' 'minor' 'moderate' 'moderate'\n",
      " 'severe' 'minor' 'severe' 'severe' 'severe' 'minor' 'minor' 'minor'\n",
      " 'moderate' 'severe' 'severe' 'severe' 'minor' 'moderate' 'moderate'\n",
      " 'moderate' 'minor' 'moderate' 'severe' 'minor' 'moderate' 'moderate'\n",
      " 'minor' 'severe' 'minor' 'minor' 'minor' 'severe' 'severe' 'moderate'\n",
      " 'severe' 'severe' 'minor' 'moderate' 'minor' 'minor' 'minor' 'minor'\n",
      " 'minor' 'moderate' 'severe' 'minor' 'severe' 'severe' 'severe' 'severe'\n",
      " 'severe' 'minor' 'minor' 'severe' 'moderate' 'minor' 'severe' 'severe'\n",
      " 'moderate' 'minor' 'moderate' 'severe' 'moderate' 'moderate' 'minor'\n",
      " 'severe' 'severe' 'minor' 'severe' 'severe' 'severe' 'moderate' 'severe'\n",
      " 'moderate' 'minor' 'moderate' 'minor' 'severe' 'minor' 'minor' 'severe'\n",
      " 'minor' 'minor' 'minor' 'severe' 'minor' 'minor' 'minor' 'minor' 'severe'\n",
      " 'moderate' 'severe' 'minor' 'moderate' 'severe' 'minor' 'moderate'\n",
      " 'minor' 'severe' 'severe' 'moderate' 'severe' 'moderate' 'severe' 'minor'\n",
      " 'minor' 'severe' 'moderate' 'severe' 'minor' 'severe' 'severe' 'minor'\n",
      " 'moderate' 'severe' 'severe' 'minor' 'severe' 'moderate' 'severe' 'minor'\n",
      " 'severe' 'severe' 'severe' 'moderate' 'severe' 'moderate' 'severe'\n",
      " 'minor' 'moderate' 'severe' 'minor' 'severe' 'minor' 'severe' 'moderate'\n",
      " 'severe' 'minor' 'minor' 'minor' 'minor' 'minor' 'minor' 'minor' 'severe'\n",
      " 'severe' 'severe' 'minor' 'minor' 'severe' 'severe' 'minor' 'moderate'\n",
      " 'severe' 'minor' 'minor' 'moderate' 'severe' 'moderate' 'severe' 'severe'\n",
      " 'severe' 'moderate' 'moderate' 'moderate' 'moderate' 'moderate'\n",
      " 'moderate' 'severe' 'minor' 'severe' 'minor' 'minor' 'moderate' 'minor'\n",
      " 'severe' 'minor' 'severe' 'moderate' 'severe' 'moderate' 'minor'\n",
      " 'moderate']\n",
      "[1 2 2 0 1 2 0 2 2 1 0 0 2 0 0 2 2 0 1 2 1 0 1 1 0 2 0 1 1 1 2 1 0 0 1 1 2\n",
      " 0 1 0 1 1 0 0 1 0 1 1 1 0 0 2 0 1 1 0 0 2 1 1 1 1 2 1 1 1 1 1 0 0 1 2 2 0\n",
      " 1 1 0 2 2 2 1 2 2 2 1 1 0 1 1 0 1 0 2 2 1 1 2 2 0 1 0 2 2 0 2 1 1 1 1 2 1\n",
      " 1 1 1 1 0 2 1 1 1 0 0 0 0 2 1 2 1 2 1 1 0 0 0 1 0 2 2 1 0 1 1 1 2 1 0 0 2\n",
      " 2 0 1 0 2 1 1 0 2 0 1 1 1 0 1 2 1 2 0 1 0 0 1 1 2 0 2 2 2 0 0 0 1 2 2 2 0\n",
      " 1 1 1 0 1 2 0 1 1 0 2 0 0 0 2 2 1 2 2 0 1 0 0 0 0 0 1 2 0 2 2 2 2 2 0 0 2\n",
      " 1 0 2 2 1 0 1 2 1 1 0 2 2 0 2 2 2 1 2 1 0 1 0 2 0 0 2 0 0 0 2 0 0 0 0 2 1\n",
      " 2 0 1 2 0 1 0 2 2 1 2 1 2 0 0 2 1 2 0 2 2 0 1 2 2 0 2 1 2 0 2 2 2 1 2 1 2\n",
      " 0 1 2 0 2 0 2 1 2 0 0 0 0 0 0 0 2 2 2 0 0 2 2 0 1 2 0 0 1 2 1 2 2 2 1 1 1\n",
      " 1 1 1 2 0 2 0 0 1 0 2 0 2 1 2 1 0 1]\n"
     ]
    }
   ],
   "source": [
    "print(y_train)\n",
    "# Convert labels to numerical categories\n",
    "label_encoder = LabelEncoder()\n",
    "y_train_encoded = label_encoder.fit_transform(y_train)\n",
    "print(y_train_encoded)\n",
    "y_val_encoded = label_encoder.transform(y_val)\n",
    "# Convert numerical categories to one-hot encoded format\n",
    "y_train_encoded = to_categorical(y_train_encoded, num_classes=3)\n",
    "y_val_encoded = to_categorical(y_val_encoded, num_classes=3)"
   ]
  },
  {
   "cell_type": "markdown",
   "metadata": {
    "id": "zxPMVDn0eCvZ"
   },
   "source": []
  },
  {
   "cell_type": "code",
   "execution_count": null,
   "metadata": {
    "colab": {
     "base_uri": "https://localhost:8080/"
    },
    "executionInfo": {
     "elapsed": 263,
     "status": "ok",
     "timestamp": 1715602420296,
     "user": {
      "displayName": "Assia RIYAF",
      "userId": "06276361855029583224"
     },
     "user_tz": -60
    },
    "id": "cYitla-5cjbI",
    "outputId": "cc290a8f-4ec5-4dab-c05e-a7906a54488e"
   },
   "outputs": [
    {
     "data": {
      "text/plain": [
       "array([[0., 1., 0.],\n",
       "       [0., 0., 1.]], dtype=float32)"
      ]
     },
     "execution_count": 40,
     "metadata": {},
     "output_type": "execute_result"
    }
   ],
   "source": [
    "y_train_encoded[:2]"
   ]
  },
  {
   "cell_type": "code",
   "execution_count": null,
   "metadata": {
    "id": "iyL5_t66cjd6"
   },
   "outputs": [],
   "source": [
    "model = VGG16(weights=\"imagenet\", include_top=False, input_shape=(224, 224, 3))\n"
   ]
  },
  {
   "cell_type": "code",
   "execution_count": null,
   "metadata": {
    "id": "NDqsx8Qqcjgr"
   },
   "outputs": [],
   "source": [
    "x = model.output\n",
    "x = keras.layers.GlobalAveragePooling2D()(x)\n",
    "predictions = keras.layers.Dense(classes, activation='softmax')(x)\n",
    "new_model = Model(inputs=model.input, outputs=predictions)"
   ]
  },
  {
   "cell_type": "code",
   "execution_count": null,
   "metadata": {
    "id": "XKDZRCKXcjjD"
   },
   "outputs": [],
   "source": [
    "new_model.compile(loss=\"categorical_crossentropy\", optimizer=keras.optimizers.SGD(learning_rate=0.0001, momentum=0.9), metrics=[\"accuracy\"])\n"
   ]
  },
  {
   "cell_type": "code",
   "execution_count": null,
   "metadata": {
    "id": "A8jItKbtcjmV"
   },
   "outputs": [],
   "source": [
    "for layer in model.layers[:5]:\n",
    "   layer.trainable = False"
   ]
  },
  {
   "cell_type": "code",
   "execution_count": null,
   "metadata": {
    "colab": {
     "base_uri": "https://localhost:8080/"
    },
    "executionInfo": {
     "elapsed": 6763484,
     "status": "ok",
     "timestamp": 1715609250793,
     "user": {
      "displayName": "Assia RIYAF",
      "userId": "06276361855029583224"
     },
     "user_tz": -60
    },
    "id": "meawZ8Ezh3yG",
    "outputId": "c06cd10d-234a-41de-9bc1-e005bd2be606"
   },
   "outputs": [
    {
     "name": "stdout",
     "output_type": "stream",
     "text": [
      "Epoch 1/10\n",
      "4/4 - 709s - loss: 3.7993 - accuracy: 0.3675 - 709s/epoch - 177s/step\n",
      "Epoch 2/10\n",
      "4/4 - 672s - loss: 1.5665 - accuracy: 0.5299 - 672s/epoch - 168s/step\n",
      "Epoch 3/10\n",
      "4/4 - 671s - loss: 0.8381 - accuracy: 0.6923 - 671s/epoch - 168s/step\n",
      "Epoch 4/10\n",
      "4/4 - 699s - loss: 0.5908 - accuracy: 0.7521 - 699s/epoch - 175s/step\n",
      "Epoch 5/10\n",
      "4/4 - 672s - loss: 0.4361 - accuracy: 0.8376 - 672s/epoch - 168s/step\n",
      "Epoch 6/10\n",
      "4/4 - 668s - loss: 0.3386 - accuracy: 0.9060 - 668s/epoch - 167s/step\n",
      "Epoch 7/10\n",
      "4/4 - 667s - loss: 0.2499 - accuracy: 0.9288 - 667s/epoch - 167s/step\n",
      "Epoch 8/10\n",
      "4/4 - 670s - loss: 0.2027 - accuracy: 0.9402 - 670s/epoch - 167s/step\n",
      "Epoch 9/10\n",
      "4/4 - 667s - loss: 0.1548 - accuracy: 0.9516 - 667s/epoch - 167s/step\n",
      "Epoch 10/10\n",
      "4/4 - 668s - loss: 0.1201 - accuracy: 0.9658 - 668s/epoch - 167s/step\n"
     ]
    }
   ],
   "source": [
    "model_info = new_model.fit(X_train, y_train_encoded, epochs=epochs, batch_size=batch_size, verbose=2)\n",
    "new_model.save(\"my_model.keras\")\n"
   ]
  },
  {
   "cell_type": "markdown",
   "metadata": {
    "id": "dETn3onVULX0"
   },
   "source": []
  },
  {
   "cell_type": "code",
   "execution_count": null,
   "metadata": {
    "colab": {
     "base_uri": "https://localhost:8080/"
    },
    "executionInfo": {
     "elapsed": 142638,
     "status": "ok",
     "timestamp": 1715610046003,
     "user": {
      "displayName": "Assia RIYAF",
      "userId": "06276361855029583224"
     },
     "user_tz": -60
    },
    "id": "Z-UTkQfYT1B1",
    "outputId": "6062bd27-b878-4b0f-f9c0-e928f2346bef"
   },
   "outputs": [
    {
     "name": "stdout",
     "output_type": "stream",
     "text": [
      "8/8 [==============================] - 139s 17s/step\n",
      "[[2.79107830e-03 1.75000932e-02 9.79708850e-01]\n",
      " [1.18122296e-02 2.78224766e-01 7.09963024e-01]\n",
      " [9.34548007e-05 1.15307383e-02 9.88375664e-01]\n",
      " [4.47664788e-04 3.10984650e-03 9.96442437e-01]\n",
      " [1.27797322e-02 2.16940522e-01 7.70279646e-01]\n",
      " [7.12444089e-05 1.26454269e-03 9.98664260e-01]\n",
      " [1.52631605e-04 2.80634668e-02 9.71783936e-01]\n",
      " [6.65496453e-04 4.85305209e-03 9.94481504e-01]\n",
      " [8.75995011e-06 2.26375926e-02 9.77353632e-01]\n",
      " [1.65790096e-02 6.34029508e-02 9.20018017e-01]\n",
      " [6.11923097e-05 1.75082143e-02 9.82430577e-01]\n",
      " [7.72519596e-03 5.75214736e-02 9.34753299e-01]\n",
      " [4.69095781e-02 5.30309156e-02 9.00059581e-01]\n",
      " [1.33055134e-03 1.07452311e-02 9.87924159e-01]\n",
      " [4.44325238e-01 2.84917891e-01 2.70756811e-01]\n",
      " [2.45813688e-04 3.02638276e-03 9.96727765e-01]\n",
      " [2.17816439e-02 4.59136143e-02 9.32304800e-01]\n",
      " [5.16291730e-05 5.60451532e-04 9.99387920e-01]\n",
      " [3.48724891e-03 4.30681445e-02 9.53444541e-01]\n",
      " [2.82814656e-03 2.41014059e-03 9.94761705e-01]\n",
      " [2.79215518e-02 2.43759573e-01 7.28318870e-01]\n",
      " [1.44039828e-03 9.20536444e-02 9.06505823e-01]\n",
      " [3.14629287e-04 1.30919495e-03 9.98376250e-01]\n",
      " [6.08084665e-04 4.73301783e-02 9.52061713e-01]\n",
      " [3.01921670e-03 1.46177066e-02 9.82363105e-01]\n",
      " [5.13886916e-04 5.16191572e-02 9.47866917e-01]\n",
      " [2.14621760e-02 2.09223732e-01 7.69314110e-01]\n",
      " [1.20109617e-04 1.29885757e-02 9.86891210e-01]\n",
      " [6.64814870e-05 1.34727068e-03 9.98586178e-01]\n",
      " [1.58134568e-03 7.46249110e-02 9.23793674e-01]\n",
      " [7.72491470e-03 1.84637547e-01 8.07637453e-01]\n",
      " [4.54500597e-03 1.45974886e-02 9.80857491e-01]\n",
      " [1.48034573e-03 8.48336890e-03 9.90036309e-01]\n",
      " [8.97848234e-03 3.49547684e-01 6.41473830e-01]\n",
      " [3.14283520e-02 1.33492127e-01 8.35079551e-01]\n",
      " [3.74694384e-04 6.53582346e-03 9.93089437e-01]\n",
      " [6.65473705e-03 2.53300015e-02 9.68015254e-01]\n",
      " [1.75151962e-03 4.44287628e-01 5.53960681e-01]\n",
      " [1.08904480e-07 7.45131227e-04 9.99254823e-01]\n",
      " [1.19032353e-01 6.73239604e-02 8.13643634e-01]\n",
      " [6.13837224e-03 8.15656036e-02 9.12295878e-01]\n",
      " [3.69953370e-04 2.30736267e-02 9.76556361e-01]\n",
      " [4.68586991e-03 9.23171733e-03 9.86082375e-01]\n",
      " [9.70467590e-06 1.42667182e-02 9.85723495e-01]\n",
      " [2.00689601e-06 2.08436250e-05 9.99977052e-01]\n",
      " [7.09431851e-03 9.47289765e-02 8.98176730e-01]\n",
      " [4.53816541e-03 2.76569533e-03 9.92696047e-01]\n",
      " [4.39145230e-03 9.07214452e-03 9.86536384e-01]\n",
      " [2.74883653e-03 1.80496015e-02 9.79201615e-01]\n",
      " [4.46654763e-03 3.99983265e-02 9.55535233e-01]\n",
      " [4.03613967e-06 1.03550486e-03 9.98960495e-01]\n",
      " [6.67229146e-02 3.24259609e-01 6.09017432e-01]\n",
      " [1.47050666e-02 2.63290908e-02 9.58965838e-01]\n",
      " [4.50239237e-03 2.94634402e-01 7.00863123e-01]\n",
      " [7.53054410e-05 9.55084059e-03 9.90373731e-01]\n",
      " [2.85333837e-03 5.75385578e-02 9.39608097e-01]\n",
      " [9.98638789e-05 1.10132648e-02 9.88886833e-01]\n",
      " [1.54145136e-01 4.92895842e-01 3.52959096e-01]\n",
      " [4.08488177e-02 1.24910869e-01 8.34240258e-01]\n",
      " [8.71735779e-07 4.65960271e-04 9.99533117e-01]\n",
      " [1.68866385e-03 9.77115870e-01 2.11955328e-02]\n",
      " [2.52138195e-03 1.92399640e-02 9.78238702e-01]\n",
      " [3.21734734e-02 1.91592202e-02 9.48667288e-01]\n",
      " [1.33754369e-02 3.22491437e-01 6.64133132e-01]\n",
      " [2.65144054e-02 1.74653634e-01 7.98831880e-01]\n",
      " [2.22044582e-06 2.50390032e-03 9.97493744e-01]\n",
      " [7.37889025e-07 6.78577635e-05 9.99931395e-01]\n",
      " [2.63153040e-03 3.31278592e-02 9.64240551e-01]\n",
      " [4.10566702e-02 2.71198563e-02 9.31823432e-01]\n",
      " [1.31214864e-03 2.56468654e-02 9.73041058e-01]\n",
      " [6.83005259e-04 5.80698736e-02 9.41247106e-01]\n",
      " [3.44723798e-02 4.62279469e-01 5.03248096e-01]\n",
      " [1.06809940e-02 3.99036556e-02 9.49415386e-01]\n",
      " [1.65871042e-03 1.03592360e-02 9.87982035e-01]\n",
      " [1.06263161e-02 2.18231641e-02 9.67550576e-01]\n",
      " [5.44104399e-03 4.38253321e-02 9.50733542e-01]\n",
      " [1.21980514e-02 2.19469704e-02 9.65854943e-01]\n",
      " [9.19195265e-02 3.43403183e-02 8.73740077e-01]\n",
      " [4.17555928e-01 3.83124053e-01 1.99320018e-01]\n",
      " [7.60377370e-05 1.25957048e-02 9.87328172e-01]\n",
      " [4.05725338e-08 8.24979434e-05 9.99917448e-01]\n",
      " [6.62921520e-04 2.03584917e-02 9.78978515e-01]\n",
      " [1.66210862e-06 1.17584594e-01 8.82413685e-01]\n",
      " [2.94285529e-09 8.38569406e-07 9.99999106e-01]\n",
      " [1.43707526e-04 1.52167818e-03 9.98334587e-01]\n",
      " [6.85273204e-04 3.22579814e-04 9.98992205e-01]\n",
      " [1.56259481e-02 2.08635330e-01 7.75738716e-01]\n",
      " [1.07605221e-04 3.55974324e-02 9.64294851e-01]\n",
      " [4.75837756e-03 7.92711675e-02 9.15970504e-01]\n",
      " [2.30149180e-06 6.35001925e-04 9.99362767e-01]\n",
      " [3.09010034e-06 2.50230834e-04 9.99746680e-01]\n",
      " [1.49638746e-02 9.84040380e-01 9.95734823e-04]\n",
      " [7.64051639e-03 9.49792862e-01 4.25667502e-02]\n",
      " [9.56135336e-03 8.17007363e-01 1.73431352e-01]\n",
      " [1.26448214e-01 8.72684360e-01 8.67398863e-04]\n",
      " [6.87965378e-02 3.10779780e-01 6.20423734e-01]\n",
      " [7.20216185e-02 8.96208346e-01 3.17699946e-02]\n",
      " [4.96730119e-01 5.01860738e-01 1.40906847e-03]\n",
      " [4.95353490e-02 9.50454414e-01 1.02345748e-05]\n",
      " [2.85965018e-02 8.64071786e-01 1.07331760e-01]\n",
      " [1.79741811e-02 9.73017395e-01 9.00832471e-03]\n",
      " [2.83728763e-02 9.69730198e-01 1.89686497e-03]\n",
      " [1.19153224e-02 9.77768540e-01 1.03160180e-02]\n",
      " [1.75702572e-01 7.56218910e-01 6.80785254e-02]\n",
      " [6.06791042e-02 9.35936391e-01 3.38450866e-03]\n",
      " [3.52832168e-01 6.13000154e-01 3.41676921e-02]\n",
      " [5.64173162e-02 8.69216025e-01 7.43665323e-02]\n",
      " [3.85992154e-02 8.84361744e-01 7.70389512e-02]\n",
      " [2.36423989e-03 8.55977535e-01 1.41658202e-01]\n",
      " [2.24424914e-01 6.92415118e-01 8.31599236e-02]\n",
      " [1.39320970e-01 8.59387755e-01 1.29128341e-03]\n",
      " [1.85068138e-02 9.44020808e-01 3.74723859e-02]\n",
      " [2.23469920e-02 9.63370383e-01 1.42826987e-02]\n",
      " [3.12263966e-02 8.96108627e-01 7.26649165e-02]\n",
      " [5.62008359e-02 9.43479002e-01 3.20079329e-04]\n",
      " [1.52165005e-02 9.84422147e-01 3.61352751e-04]\n",
      " [1.73875336e-02 9.81659591e-01 9.52870410e-04]\n",
      " [4.39816117e-02 9.53166187e-01 2.85211229e-03]\n",
      " [6.78377226e-03 9.84348357e-01 8.86782445e-03]\n",
      " [2.33011115e-02 9.25776243e-01 5.09226471e-02]\n",
      " [4.22739045e-04 9.95721877e-01 3.85544030e-03]\n",
      " [5.05536620e-04 9.64975357e-01 3.45191173e-02]\n",
      " [9.51027647e-02 9.03112650e-01 1.78453850e-03]\n",
      " [3.64382342e-02 9.50529337e-01 1.30323330e-02]\n",
      " [4.18555215e-02 9.50349271e-01 7.79521139e-03]\n",
      " [1.36534665e-02 9.57903266e-01 2.84432769e-02]\n",
      " [1.80564192e-03 9.38404024e-01 5.97903170e-02]\n",
      " [2.88278749e-03 9.77874339e-01 1.92427970e-02]\n",
      " [4.39449102e-02 9.52990234e-01 3.06485919e-03]\n",
      " [5.95463300e-03 9.68786895e-01 2.52584238e-02]\n",
      " [2.50995941e-02 7.79301345e-01 1.95599005e-01]\n",
      " [1.18047267e-03 8.54005694e-01 1.44813865e-01]\n",
      " [1.62165616e-05 5.66425873e-03 9.94319439e-01]\n",
      " [3.49847749e-02 9.19099748e-01 4.59153727e-02]\n",
      " [9.68828723e-02 8.73196423e-01 2.99206711e-02]\n",
      " [1.27467792e-03 9.89232898e-01 9.49248299e-03]\n",
      " [3.43720883e-01 5.11959910e-01 1.44319266e-01]\n",
      " [1.49878010e-01 7.88892865e-01 6.12289608e-02]\n",
      " [1.55183149e-03 8.34058821e-01 1.64389372e-01]\n",
      " [4.54443991e-02 9.51919377e-01 2.63617071e-03]\n",
      " [2.52192914e-01 5.20988941e-01 2.26818115e-01]\n",
      " [5.54812513e-02 9.36985791e-01 7.53297471e-03]\n",
      " [4.93376069e-02 8.64281714e-01 8.63805413e-02]\n",
      " [5.40517224e-03 9.62730229e-01 3.18645053e-02]\n",
      " [2.06819065e-02 9.18449581e-01 6.08684756e-02]\n",
      " [2.56742656e-01 7.42475033e-01 7.82355783e-04]\n",
      " [1.01729341e-01 8.83816242e-01 1.44542698e-02]\n",
      " [5.46502415e-03 9.90952790e-01 3.58214369e-03]\n",
      " [6.79923296e-02 8.59669149e-01 7.23384619e-02]\n",
      " [2.26773880e-02 9.06265438e-01 7.10572079e-02]\n",
      " [1.37116406e-02 9.57328141e-01 2.89602615e-02]\n",
      " [1.52588174e-01 8.47308457e-01 1.03369232e-04]\n",
      " [5.10342792e-02 8.45623493e-01 1.03342302e-01]\n",
      " [7.18872100e-02 8.68546128e-01 5.95665723e-02]\n",
      " [3.33968960e-02 9.00342226e-01 6.62609786e-02]\n",
      " [2.02317182e-02 9.77734387e-01 2.03391933e-03]\n",
      " [1.68126881e-01 8.29310536e-01 2.56267912e-03]\n",
      " [1.76943988e-01 8.17917228e-01 5.13872178e-03]\n",
      " [2.40541939e-02 9.71068025e-01 4.87775868e-03]\n",
      " [6.99417070e-02 8.67527366e-01 6.25308976e-02]\n",
      " [6.68497458e-02 9.32274222e-01 8.76041537e-04]\n",
      " [3.34470533e-03 9.32578921e-01 6.40763566e-02]\n",
      " [9.19879824e-02 7.16810822e-01 1.91201136e-01]\n",
      " [5.96897379e-02 4.73121047e-01 4.67189312e-01]\n",
      " [9.50588807e-02 8.23848069e-01 8.10929313e-02]\n",
      " [6.33745342e-02 8.84227931e-01 5.23973629e-02]\n",
      " [9.90103662e-01 9.89033934e-03 6.02976024e-06]\n",
      " [9.35522735e-01 6.39327615e-02 5.44424751e-04]\n",
      " [9.99899805e-01 9.98807445e-05 2.61468273e-07]\n",
      " [9.95198309e-01 4.77399584e-03 2.77971303e-05]\n",
      " [8.75151277e-01 1.23963006e-01 8.85755580e-04]\n",
      " [7.97662735e-01 1.11170467e-02 1.91220134e-01]\n",
      " [8.21608663e-01 7.69169331e-02 1.01474404e-01]\n",
      " [9.36774135e-01 6.05977215e-02 2.62823142e-03]\n",
      " [9.99961674e-01 5.56759642e-06 3.26309600e-05]\n",
      " [9.99945343e-01 5.45950024e-05 4.88330159e-08]\n",
      " [9.14207637e-01 7.90585130e-02 6.73390506e-03]\n",
      " [9.90771592e-01 6.50914013e-03 2.71924585e-03]\n",
      " [1.45347759e-01 8.02380145e-01 5.22721075e-02]\n",
      " [9.92531121e-01 7.37994537e-03 8.89736402e-05]\n",
      " [9.50775564e-01 4.68680486e-02 2.35625380e-03]\n",
      " [9.80973482e-01 1.90050956e-02 2.14057691e-05]\n",
      " [5.43958068e-01 4.49176669e-01 6.86517404e-03]\n",
      " [9.96972084e-01 3.02632665e-03 1.51861695e-06]\n",
      " [9.99580681e-01 4.19088523e-04 2.04832688e-07]\n",
      " [9.01386738e-01 9.69825834e-02 1.63074408e-03]\n",
      " [9.64744747e-01 3.49772535e-02 2.77914689e-04]\n",
      " [9.92676318e-01 7.05353636e-03 2.70152523e-04]\n",
      " [8.90665352e-01 7.29684606e-02 3.63663137e-02]\n",
      " [9.88017261e-01 1.19683789e-02 1.43395609e-05]\n",
      " [9.09644306e-01 8.82394090e-02 2.11623800e-03]\n",
      " [8.49020362e-01 1.18027925e-01 3.29517461e-02]\n",
      " [9.25176978e-01 7.10045099e-02 3.81858111e-03]\n",
      " [9.98581171e-01 8.80911539e-04 5.37954562e-04]\n",
      " [9.91653979e-01 7.93382525e-03 4.12065856e-04]\n",
      " [9.72907603e-01 2.60723177e-02 1.02009287e-03]\n",
      " [9.96608615e-01 3.37087060e-03 2.05481228e-05]\n",
      " [9.94841397e-01 5.11464244e-03 4.39395844e-05]\n",
      " [4.82840151e-01 4.86337990e-01 3.08218244e-02]\n",
      " [1.27976075e-01 7.81085730e-01 9.09380838e-02]\n",
      " [9.97589111e-01 1.87269098e-03 5.38254390e-04]\n",
      " [9.99960363e-01 3.88372282e-05 6.99787790e-07]\n",
      " [8.59947026e-01 1.38925105e-01 1.12788077e-03]\n",
      " [9.98659611e-01 1.33996888e-03 3.72021901e-07]\n",
      " [7.75838315e-01 2.16496170e-01 7.66554521e-03]\n",
      " [9.49324191e-01 1.71061940e-02 3.35696898e-02]\n",
      " [9.09117281e-01 4.51372154e-02 4.57455367e-02]\n",
      " [9.99462962e-01 9.93544163e-05 4.37796523e-04]\n",
      " [9.87268031e-01 1.04742125e-02 2.25762348e-03]\n",
      " [9.96736348e-01 3.25040380e-03 1.31921552e-05]\n",
      " [9.87603068e-01 3.77812725e-03 8.61873105e-03]\n",
      " [9.57012355e-01 3.53657305e-02 7.62188714e-03]\n",
      " [9.93668497e-01 6.23451173e-03 9.68920649e-05]\n",
      " [9.52700615e-01 4.16425318e-02 5.65683469e-03]\n",
      " [9.98815238e-01 1.14710105e-03 3.75965719e-05]\n",
      " [9.61856306e-01 2.49885265e-02 1.31550366e-02]\n",
      " [8.59052181e-01 1.25552461e-01 1.53954141e-02]\n",
      " [9.87441778e-01 4.90236236e-03 7.65589904e-03]\n",
      " [9.79126871e-01 2.08577700e-02 1.52706725e-05]\n",
      " [9.65476453e-01 6.02443819e-04 3.39211263e-02]\n",
      " [9.97874558e-01 2.05062539e-03 7.46650403e-05]\n",
      " [9.94407773e-01 4.76384116e-03 8.28422199e-04]\n",
      " [9.98723924e-01 1.23676565e-03 3.92875590e-05]\n",
      " [7.63424456e-01 2.32845962e-01 3.72954691e-03]\n",
      " [9.62917745e-01 3.70774530e-02 4.75910474e-06]\n",
      " [9.91852701e-01 6.91223284e-03 1.23516016e-03]\n",
      " [9.25463557e-01 2.11309437e-02 5.34054115e-02]\n",
      " [9.29741085e-01 6.35263920e-02 6.73264870e-03]\n",
      " [9.86781120e-01 8.36152304e-03 4.85730823e-03]\n",
      " [9.63524163e-01 2.03545019e-02 1.61212720e-02]\n",
      " [9.92231369e-01 6.87553221e-03 8.93065240e-04]\n",
      " [9.99677658e-01 2.60471890e-04 6.18468548e-05]\n",
      " [9.97982562e-01 1.22109137e-03 7.96365144e-04]\n",
      " [7.94333696e-01 9.10711512e-02 1.14595301e-01]\n",
      " [9.99438167e-01 5.31529833e-04 3.02978897e-05]\n",
      " [9.85640883e-01 1.20891202e-02 2.26990297e-03]\n",
      " [5.27571023e-01 3.85134250e-01 8.72946456e-02]\n",
      " [9.96994197e-01 3.36192345e-04 2.66964850e-03]\n",
      " [9.97500181e-01 6.41957216e-04 1.85791554e-03]\n",
      " [9.98943031e-01 1.03312184e-03 2.38110952e-05]\n",
      " [9.99033630e-01 9.65639309e-04 7.08863467e-07]\n",
      " [9.52517927e-01 1.27759486e-04 4.73542437e-02]\n",
      " [9.99891818e-01 9.47993831e-05 1.33966469e-05]\n",
      " [9.99865055e-01 1.32838832e-04 2.20774268e-06]\n",
      " [9.99981701e-01 1.81469750e-05 6.44996874e-08]\n",
      " [9.99529064e-01 2.15594569e-04 2.55313644e-04]\n",
      " [9.99876261e-01 1.23865451e-04 4.54979130e-08]\n",
      " [9.99936640e-01 5.83497058e-05 4.94485221e-06]]\n",
      "[2 2 2 2 2 2 2 2 2 2 2 2 2 2 0 2 2 2 2 2 2 2 2 2 2 2 2 2 2 2 2 2 2 2 2 2 2\n",
      " 2 2 2 2 2 2 2 2 2 2 2 2 2 2 2 2 2 2 2 2 1 2 2 1 2 2 2 2 2 2 2 2 2 2 2 2 2\n",
      " 2 2 2 2 0 2 2 2 2 2 2 2 2 2 2 2 2 1 1 1 1 2 1 1 1 1 1 1 1 1 1 1 1 1 1 1 1\n",
      " 1 1 1 1 1 1 1 1 1 1 1 1 1 1 1 1 1 1 1 1 1 2 1 1 1 1 1 1 1 1 1 1 1 1 1 1 1\n",
      " 1 1 1 1 1 1 1 1 1 1 1 1 1 1 1 1 1 1 0 0 0 0 0 0 0 0 0 0 0 0 1 0 0 0 0 0 0\n",
      " 0 0 0 0 0 0 0 0 0 0 0 0 0 1 1 0 0 0 0 0 0 0 0 0 0 0 0 0 0 0 0 0 0 0 0 0 0\n",
      " 0 0 0 0 0 0 0 0 0 0 0 0 0 0 0 0 0 0 0 0 0 0 0 0 0 0]\n"
     ]
    }
   ],
   "source": [
    "predictions  = new_model.predict(X_val)\n",
    "print(predictions)\n",
    "# Trouver l'indice de la classe prédite pour chaque exemple\n",
    "predicted_classes = np.argmax(predictions, axis=1)\n",
    "\n",
    "print(predicted_classes)"
   ]
  },
  {
   "cell_type": "code",
   "execution_count": null,
   "metadata": {
    "id": "30FrniL2cjr2"
   },
   "outputs": [],
   "source": [
    "from sklearn.metrics import accuracy_score\n"
   ]
  },
  {
   "cell_type": "code",
   "execution_count": null,
   "metadata": {
    "colab": {
     "base_uri": "https://localhost:8080/"
    },
    "executionInfo": {
     "elapsed": 362,
     "status": "ok",
     "timestamp": 1715610665316,
     "user": {
      "displayName": "Assia RIYAF",
      "userId": "06276361855029583224"
     },
     "user_tz": -60
    },
    "id": "nNFY2FdaVn-X",
    "outputId": "cda4be7d-8f1d-48b8-9148-28dbe4f41b3f"
   },
   "outputs": [
    {
     "data": {
      "text/plain": [
       "array(['severe', 'severe', 'severe', 'severe', 'severe', 'severe',\n",
       "       'severe', 'severe', 'severe', 'severe', 'severe', 'severe',\n",
       "       'severe', 'severe', 'severe', 'severe', 'severe', 'severe',\n",
       "       'severe', 'severe', 'severe', 'severe', 'severe', 'severe',\n",
       "       'severe', 'severe', 'severe', 'severe', 'severe', 'severe',\n",
       "       'severe', 'severe', 'severe', 'severe', 'severe', 'severe',\n",
       "       'severe', 'severe', 'severe', 'severe', 'severe', 'severe',\n",
       "       'severe', 'severe', 'severe', 'severe', 'severe', 'severe',\n",
       "       'severe', 'severe', 'severe', 'severe', 'severe', 'severe',\n",
       "       'severe', 'severe', 'severe', 'severe', 'severe', 'severe',\n",
       "       'severe', 'severe', 'severe', 'severe', 'severe', 'severe',\n",
       "       'severe', 'severe', 'severe', 'severe', 'severe', 'severe',\n",
       "       'severe', 'severe', 'severe', 'severe', 'severe', 'severe',\n",
       "       'severe', 'severe', 'severe', 'severe', 'severe', 'severe',\n",
       "       'severe', 'severe', 'severe', 'severe', 'severe', 'severe',\n",
       "       'severe', 'moderate', 'moderate', 'moderate', 'moderate',\n",
       "       'moderate', 'moderate', 'moderate', 'moderate', 'moderate',\n",
       "       'moderate', 'moderate', 'moderate', 'moderate', 'moderate',\n",
       "       'moderate', 'moderate', 'moderate', 'moderate', 'moderate',\n",
       "       'moderate', 'moderate', 'moderate', 'moderate', 'moderate',\n",
       "       'moderate', 'moderate', 'moderate', 'moderate', 'moderate',\n",
       "       'moderate', 'moderate', 'moderate', 'moderate', 'moderate',\n",
       "       'moderate', 'moderate', 'moderate', 'moderate', 'moderate',\n",
       "       'moderate', 'moderate', 'moderate', 'moderate', 'moderate',\n",
       "       'moderate', 'moderate', 'moderate', 'moderate', 'moderate',\n",
       "       'moderate', 'moderate', 'moderate', 'moderate', 'moderate',\n",
       "       'moderate', 'moderate', 'moderate', 'moderate', 'moderate',\n",
       "       'moderate', 'moderate', 'moderate', 'moderate', 'moderate',\n",
       "       'moderate', 'moderate', 'moderate', 'moderate', 'moderate',\n",
       "       'moderate', 'moderate', 'moderate', 'moderate', 'moderate',\n",
       "       'moderate', 'minor', 'minor', 'minor', 'minor', 'minor', 'minor',\n",
       "       'minor', 'minor', 'minor', 'minor', 'minor', 'minor', 'minor',\n",
       "       'minor', 'minor', 'minor', 'minor', 'minor', 'minor', 'minor',\n",
       "       'minor', 'minor', 'minor', 'minor', 'minor', 'minor', 'minor',\n",
       "       'minor', 'minor', 'minor', 'minor', 'minor', 'minor', 'minor',\n",
       "       'minor', 'minor', 'minor', 'minor', 'minor', 'minor', 'minor',\n",
       "       'minor', 'minor', 'minor', 'minor', 'minor', 'minor', 'minor',\n",
       "       'minor', 'minor', 'minor', 'minor', 'minor', 'minor', 'minor',\n",
       "       'minor', 'minor', 'minor', 'minor', 'minor', 'minor', 'minor',\n",
       "       'minor', 'minor', 'minor', 'minor', 'minor', 'minor', 'minor',\n",
       "       'minor', 'minor', 'minor', 'minor', 'minor', 'minor', 'minor',\n",
       "       'minor', 'minor', 'minor', 'minor', 'minor', 'minor'], dtype='<U8')"
      ]
     },
     "execution_count": 55,
     "metadata": {},
     "output_type": "execute_result"
    }
   ],
   "source": [
    "y_val"
   ]
  },
  {
   "cell_type": "code",
   "execution_count": null,
   "metadata": {
    "colab": {
     "base_uri": "https://localhost:8080/"
    },
    "executionInfo": {
     "elapsed": 300,
     "status": "ok",
     "timestamp": 1715610714819,
     "user": {
      "displayName": "Assia RIYAF",
      "userId": "06276361855029583224"
     },
     "user_tz": -60
    },
    "id": "lU72e9MxVtj4",
    "outputId": "28bb5c4b-ba4f-444b-b6d2-0232c0fdb64d"
   },
   "outputs": [
    {
     "data": {
      "text/plain": [
       "array([2, 2, 2, 2, 2, 2, 2, 2, 2, 2, 2, 2, 2, 2, 2, 2, 2, 2, 2, 2, 2, 2,\n",
       "       2, 2, 2, 2, 2, 2, 2, 2, 2, 2, 2, 2, 2, 2, 2, 2, 2, 2, 2, 2, 2, 2,\n",
       "       2, 2, 2, 2, 2, 2, 2, 2, 2, 2, 2, 2, 2, 2, 2, 2, 2, 2, 2, 2, 2, 2,\n",
       "       2, 2, 2, 2, 2, 2, 2, 2, 2, 2, 2, 2, 2, 2, 2, 2, 2, 2, 2, 2, 2, 2,\n",
       "       2, 2, 2, 1, 1, 1, 1, 1, 1, 1, 1, 1, 1, 1, 1, 1, 1, 1, 1, 1, 1, 1,\n",
       "       1, 1, 1, 1, 1, 1, 1, 1, 1, 1, 1, 1, 1, 1, 1, 1, 1, 1, 1, 1, 1, 1,\n",
       "       1, 1, 1, 1, 1, 1, 1, 1, 1, 1, 1, 1, 1, 1, 1, 1, 1, 1, 1, 1, 1, 1,\n",
       "       1, 1, 1, 1, 1, 1, 1, 1, 1, 1, 1, 1, 0, 0, 0, 0, 0, 0, 0, 0, 0, 0,\n",
       "       0, 0, 0, 0, 0, 0, 0, 0, 0, 0, 0, 0, 0, 0, 0, 0, 0, 0, 0, 0, 0, 0,\n",
       "       0, 0, 0, 0, 0, 0, 0, 0, 0, 0, 0, 0, 0, 0, 0, 0, 0, 0, 0, 0, 0, 0,\n",
       "       0, 0, 0, 0, 0, 0, 0, 0, 0, 0, 0, 0, 0, 0, 0, 0, 0, 0, 0, 0, 0, 0,\n",
       "       0, 0, 0, 0, 0, 0])"
      ]
     },
     "execution_count": 57,
     "metadata": {},
     "output_type": "execute_result"
    }
   ],
   "source": [
    "y_encoded = label_encoder.fit_transform(y_val)\n",
    "y_encoded"
   ]
  },
  {
   "cell_type": "code",
   "execution_count": null,
   "metadata": {
    "colab": {
     "base_uri": "https://localhost:8080/"
    },
    "executionInfo": {
     "elapsed": 535,
     "status": "ok",
     "timestamp": 1715610797421,
     "user": {
      "displayName": "Assia RIYAF",
      "userId": "06276361855029583224"
     },
     "user_tz": -60
    },
    "id": "3lMxWNl7cjun",
    "outputId": "bc946419-a940-4405-f093-98720989d677"
   },
   "outputs": [
    {
     "name": "stdout",
     "output_type": "stream",
     "text": [
      "Accuracy: 0.9637096774193549\n"
     ]
    }
   ],
   "source": [
    "# Calculate accuracy\n",
    "accuracy = accuracy_score(y_encoded, predicted_classes )\n",
    "\n",
    "print(\"Accuracy:\", accuracy)\n"
   ]
  }
 ],
 "metadata": {
  "accelerator": "GPU",
  "colab": {
   "authorship_tag": "ABX9TyPIK4qtBlQJXNiR6BJAO3Uo",
   "gpuType": "T4",
   "provenance": []
  },
  "kernelspec": {
   "display_name": "Python 3",
   "name": "python3"
  },
  "language_info": {
   "name": "python"
  }
 },
 "nbformat": 4,
 "nbformat_minor": 0
}
